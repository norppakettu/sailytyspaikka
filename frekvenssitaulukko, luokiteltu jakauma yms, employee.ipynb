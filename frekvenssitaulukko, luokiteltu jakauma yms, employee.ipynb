{
 "cells": [
  {
   "cell_type": "code",
   "execution_count": 1,
   "metadata": {},
   "outputs": [
    {
     "data": {
      "text/plain": [
       "['bmh',\n",
       " 'classic',\n",
       " 'dark_background',\n",
       " 'fast',\n",
       " 'fivethirtyeight',\n",
       " 'ggplot',\n",
       " 'grayscale',\n",
       " 'seaborn-bright',\n",
       " 'seaborn-colorblind',\n",
       " 'seaborn-dark-palette',\n",
       " 'seaborn-dark',\n",
       " 'seaborn-darkgrid',\n",
       " 'seaborn-deep',\n",
       " 'seaborn-muted',\n",
       " 'seaborn-notebook',\n",
       " 'seaborn-paper',\n",
       " 'seaborn-pastel',\n",
       " 'seaborn-poster',\n",
       " 'seaborn-talk',\n",
       " 'seaborn-ticks',\n",
       " 'seaborn-white',\n",
       " 'seaborn-whitegrid',\n",
       " 'seaborn',\n",
       " 'Solarize_Light2',\n",
       " 'tableau-colorblind10',\n",
       " '_classic_test']"
      ]
     },
     "execution_count": 1,
     "metadata": {},
     "output_type": "execute_result"
    }
   ],
   "source": [
    "import pandas as pd\n",
    "import matplotlib.pyplot as plt\n",
    "%matplotlib inline\n",
    "\n",
    "plt.style.available"
   ]
  },
  {
   "cell_type": "code",
   "execution_count": 2,
   "metadata": {},
   "outputs": [],
   "source": [
    "plt.style.use('seaborn-darkgrid')"
   ]
  },
  {
   "cell_type": "code",
   "execution_count": 3,
   "metadata": {
    "scrolled": true
   },
   "outputs": [
    {
     "data": {
      "text/html": [
       "<div>\n",
       "<style scoped>\n",
       "    .dataframe tbody tr th:only-of-type {\n",
       "        vertical-align: middle;\n",
       "    }\n",
       "\n",
       "    .dataframe tbody tr th {\n",
       "        vertical-align: top;\n",
       "    }\n",
       "\n",
       "    .dataframe thead th {\n",
       "        text-align: right;\n",
       "    }\n",
       "</style>\n",
       "<table border=\"1\" class=\"dataframe\">\n",
       "  <thead>\n",
       "    <tr style=\"text-align: right;\">\n",
       "      <th></th>\n",
       "      <th>Age</th>\n",
       "      <th>Attrition</th>\n",
       "      <th>BusinessTravel</th>\n",
       "      <th>DailyRate</th>\n",
       "      <th>Department</th>\n",
       "      <th>DistanceFromHome</th>\n",
       "      <th>Education</th>\n",
       "      <th>EducationField</th>\n",
       "      <th>EmployeeCount</th>\n",
       "      <th>EmployeeNumber</th>\n",
       "      <th>...</th>\n",
       "      <th>YearsWithCurrManager</th>\n",
       "      <th>Education_text</th>\n",
       "      <th>JobInvolvement_text</th>\n",
       "      <th>PerformanceRating_text</th>\n",
       "      <th>RelationshipSatisfaction_text</th>\n",
       "      <th>WorkLifeBalance_text</th>\n",
       "      <th>DailyRateClass</th>\n",
       "      <th>Distance Class</th>\n",
       "      <th>Age Class</th>\n",
       "      <th>Overall Satisfaction</th>\n",
       "    </tr>\n",
       "  </thead>\n",
       "  <tbody>\n",
       "    <tr>\n",
       "      <th>0</th>\n",
       "      <td>41</td>\n",
       "      <td>Yes</td>\n",
       "      <td>Travel_Rarely</td>\n",
       "      <td>1102</td>\n",
       "      <td>Sales</td>\n",
       "      <td>1</td>\n",
       "      <td>2</td>\n",
       "      <td>Life Sciences</td>\n",
       "      <td>1</td>\n",
       "      <td>1</td>\n",
       "      <td>...</td>\n",
       "      <td>5</td>\n",
       "      <td>College</td>\n",
       "      <td>High</td>\n",
       "      <td>Excellent</td>\n",
       "      <td>Low</td>\n",
       "      <td>Bad</td>\n",
       "      <td>(1000.0, 1250.0]</td>\n",
       "      <td>(0.0, 5.0]</td>\n",
       "      <td>(40, 50]</td>\n",
       "      <td>3.0</td>\n",
       "    </tr>\n",
       "    <tr>\n",
       "      <th>1</th>\n",
       "      <td>49</td>\n",
       "      <td>No</td>\n",
       "      <td>Travel_Frequently</td>\n",
       "      <td>279</td>\n",
       "      <td>Research &amp; Development</td>\n",
       "      <td>8</td>\n",
       "      <td>1</td>\n",
       "      <td>Life Sciences</td>\n",
       "      <td>1</td>\n",
       "      <td>2</td>\n",
       "      <td>...</td>\n",
       "      <td>7</td>\n",
       "      <td>Below College</td>\n",
       "      <td>Medium</td>\n",
       "      <td>Outstanding</td>\n",
       "      <td>Very high</td>\n",
       "      <td>Better</td>\n",
       "      <td>(250.0, 500.0]</td>\n",
       "      <td>(5.0, 10.0]</td>\n",
       "      <td>(40, 50]</td>\n",
       "      <td>2.5</td>\n",
       "    </tr>\n",
       "    <tr>\n",
       "      <th>2</th>\n",
       "      <td>37</td>\n",
       "      <td>Yes</td>\n",
       "      <td>Travel_Rarely</td>\n",
       "      <td>1373</td>\n",
       "      <td>Research &amp; Development</td>\n",
       "      <td>2</td>\n",
       "      <td>2</td>\n",
       "      <td>Other</td>\n",
       "      <td>1</td>\n",
       "      <td>4</td>\n",
       "      <td>...</td>\n",
       "      <td>0</td>\n",
       "      <td>College</td>\n",
       "      <td>Medium</td>\n",
       "      <td>Excellent</td>\n",
       "      <td>Medium</td>\n",
       "      <td>Better</td>\n",
       "      <td>(1250.0, 1500.0]</td>\n",
       "      <td>(0.0, 5.0]</td>\n",
       "      <td>(30, 40]</td>\n",
       "      <td>3.5</td>\n",
       "    </tr>\n",
       "    <tr>\n",
       "      <th>3</th>\n",
       "      <td>33</td>\n",
       "      <td>No</td>\n",
       "      <td>Travel_Frequently</td>\n",
       "      <td>1392</td>\n",
       "      <td>Research &amp; Development</td>\n",
       "      <td>3</td>\n",
       "      <td>4</td>\n",
       "      <td>Life Sciences</td>\n",
       "      <td>1</td>\n",
       "      <td>5</td>\n",
       "      <td>...</td>\n",
       "      <td>0</td>\n",
       "      <td>Master</td>\n",
       "      <td>High</td>\n",
       "      <td>Excellent</td>\n",
       "      <td>High</td>\n",
       "      <td>Better</td>\n",
       "      <td>(1250.0, 1500.0]</td>\n",
       "      <td>(0.0, 5.0]</td>\n",
       "      <td>(30, 40]</td>\n",
       "      <td>3.5</td>\n",
       "    </tr>\n",
       "    <tr>\n",
       "      <th>4</th>\n",
       "      <td>27</td>\n",
       "      <td>No</td>\n",
       "      <td>Travel_Rarely</td>\n",
       "      <td>591</td>\n",
       "      <td>Research &amp; Development</td>\n",
       "      <td>2</td>\n",
       "      <td>1</td>\n",
       "      <td>Medical</td>\n",
       "      <td>1</td>\n",
       "      <td>7</td>\n",
       "      <td>...</td>\n",
       "      <td>2</td>\n",
       "      <td>Below College</td>\n",
       "      <td>High</td>\n",
       "      <td>Excellent</td>\n",
       "      <td>Very high</td>\n",
       "      <td>Better</td>\n",
       "      <td>(500.0, 750.0]</td>\n",
       "      <td>(0.0, 5.0]</td>\n",
       "      <td>(20, 30]</td>\n",
       "      <td>1.5</td>\n",
       "    </tr>\n",
       "  </tbody>\n",
       "</table>\n",
       "<p>5 rows × 44 columns</p>\n",
       "</div>"
      ],
      "text/plain": [
       "   Age Attrition     BusinessTravel  DailyRate              Department  \\\n",
       "0   41       Yes      Travel_Rarely       1102                   Sales   \n",
       "1   49        No  Travel_Frequently        279  Research & Development   \n",
       "2   37       Yes      Travel_Rarely       1373  Research & Development   \n",
       "3   33        No  Travel_Frequently       1392  Research & Development   \n",
       "4   27        No      Travel_Rarely        591  Research & Development   \n",
       "\n",
       "   DistanceFromHome  Education EducationField  EmployeeCount  EmployeeNumber  \\\n",
       "0                 1          2  Life Sciences              1               1   \n",
       "1                 8          1  Life Sciences              1               2   \n",
       "2                 2          2          Other              1               4   \n",
       "3                 3          4  Life Sciences              1               5   \n",
       "4                 2          1        Medical              1               7   \n",
       "\n",
       "   ...  YearsWithCurrManager Education_text  JobInvolvement_text  \\\n",
       "0  ...                     5        College                 High   \n",
       "1  ...                     7  Below College               Medium   \n",
       "2  ...                     0        College               Medium   \n",
       "3  ...                     0         Master                 High   \n",
       "4  ...                     2  Below College                 High   \n",
       "\n",
       "   PerformanceRating_text  RelationshipSatisfaction_text WorkLifeBalance_text  \\\n",
       "0               Excellent                            Low                  Bad   \n",
       "1             Outstanding                      Very high               Better   \n",
       "2               Excellent                         Medium               Better   \n",
       "3               Excellent                           High               Better   \n",
       "4               Excellent                      Very high               Better   \n",
       "\n",
       "     DailyRateClass Distance Class  Age Class  Overall Satisfaction  \n",
       "0  (1000.0, 1250.0]     (0.0, 5.0]   (40, 50]                   3.0  \n",
       "1    (250.0, 500.0]    (5.0, 10.0]   (40, 50]                   2.5  \n",
       "2  (1250.0, 1500.0]     (0.0, 5.0]   (30, 40]                   3.5  \n",
       "3  (1250.0, 1500.0]     (0.0, 5.0]   (30, 40]                   3.5  \n",
       "4    (500.0, 750.0]     (0.0, 5.0]   (20, 30]                   1.5  \n",
       "\n",
       "[5 rows x 44 columns]"
      ]
     },
     "execution_count": 3,
     "metadata": {},
     "output_type": "execute_result"
    }
   ],
   "source": [
    "df = pd.read_excel('valmisteltu51.xlsx')\n",
    "df.drop(['Unnamed: 0'], axis=1).head()"
   ]
  },
  {
   "cell_type": "code",
   "execution_count": 4,
   "metadata": {},
   "outputs": [],
   "source": [
    "Education = ['Below College', 'College', 'Bachelor', 'Master', 'Doctor']"
   ]
  },
  {
   "cell_type": "code",
   "execution_count": 5,
   "metadata": {},
   "outputs": [
    {
     "data": {
      "text/html": [
       "<style  type=\"text/css\" >\n",
       "</style><table id=\"T_8611f712_306c_11ea_badd_207918ea5f23\" ><thead>    <tr>        <th class=\"index_name level0\" ></th>        <th class=\"col_heading level0 col0\" >lkm</th>        <th class=\"col_heading level0 col1\" >%</th>    </tr></thead><tbody>\n",
       "                <tr>\n",
       "                        <th id=\"T_8611f712_306c_11ea_badd_207918ea5f23level0_row0\" class=\"row_heading level0 row0\" >Below College</th>\n",
       "                        <td id=\"T_8611f712_306c_11ea_badd_207918ea5f23row0_col0\" class=\"data row0 col0\" >170</td>\n",
       "                        <td id=\"T_8611f712_306c_11ea_badd_207918ea5f23row0_col1\" class=\"data row0 col1\" >11.6 %</td>\n",
       "            </tr>\n",
       "            <tr>\n",
       "                        <th id=\"T_8611f712_306c_11ea_badd_207918ea5f23level0_row1\" class=\"row_heading level0 row1\" >College</th>\n",
       "                        <td id=\"T_8611f712_306c_11ea_badd_207918ea5f23row1_col0\" class=\"data row1 col0\" >282</td>\n",
       "                        <td id=\"T_8611f712_306c_11ea_badd_207918ea5f23row1_col1\" class=\"data row1 col1\" >19.2 %</td>\n",
       "            </tr>\n",
       "            <tr>\n",
       "                        <th id=\"T_8611f712_306c_11ea_badd_207918ea5f23level0_row2\" class=\"row_heading level0 row2\" >Bachelor</th>\n",
       "                        <td id=\"T_8611f712_306c_11ea_badd_207918ea5f23row2_col0\" class=\"data row2 col0\" >572</td>\n",
       "                        <td id=\"T_8611f712_306c_11ea_badd_207918ea5f23row2_col1\" class=\"data row2 col1\" >38.9 %</td>\n",
       "            </tr>\n",
       "            <tr>\n",
       "                        <th id=\"T_8611f712_306c_11ea_badd_207918ea5f23level0_row3\" class=\"row_heading level0 row3\" >Master</th>\n",
       "                        <td id=\"T_8611f712_306c_11ea_badd_207918ea5f23row3_col0\" class=\"data row3 col0\" >398</td>\n",
       "                        <td id=\"T_8611f712_306c_11ea_badd_207918ea5f23row3_col1\" class=\"data row3 col1\" >27.1 %</td>\n",
       "            </tr>\n",
       "            <tr>\n",
       "                        <th id=\"T_8611f712_306c_11ea_badd_207918ea5f23level0_row4\" class=\"row_heading level0 row4\" >Doctor</th>\n",
       "                        <td id=\"T_8611f712_306c_11ea_badd_207918ea5f23row4_col0\" class=\"data row4 col0\" >48</td>\n",
       "                        <td id=\"T_8611f712_306c_11ea_badd_207918ea5f23row4_col1\" class=\"data row4 col1\" >3.3 %</td>\n",
       "            </tr>\n",
       "            <tr>\n",
       "                        <th id=\"T_8611f712_306c_11ea_badd_207918ea5f23level0_row5\" class=\"row_heading level0 row5\" >Total</th>\n",
       "                        <td id=\"T_8611f712_306c_11ea_badd_207918ea5f23row5_col0\" class=\"data row5 col0\" >1470</td>\n",
       "                        <td id=\"T_8611f712_306c_11ea_badd_207918ea5f23row5_col1\" class=\"data row5 col1\" >100.0 %</td>\n",
       "            </tr>\n",
       "    </tbody></table>"
      ],
      "text/plain": [
       "<pandas.io.formats.style.Styler at 0x1c2b936bd68>"
      ]
     },
     "execution_count": 5,
     "metadata": {},
     "output_type": "execute_result"
    }
   ],
   "source": [
    "df1 = pd.crosstab(df['Education'], 'lkm')\n",
    "\n",
    "df1.columns.name= ''\n",
    "\n",
    "df1.index = Education\n",
    "\n",
    "n = df1['lkm'].sum()\n",
    "df1['%'] = (df1['lkm']/n)*100\n",
    "\n",
    "df1.loc['Total'] = df1.sum()\n",
    "\n",
    "df1.style.format({'%': '{:.1f} %'})"
   ]
  },
  {
   "cell_type": "code",
   "execution_count": 6,
   "metadata": {},
   "outputs": [
    {
     "data": {
      "text/plain": [
       "[Text(0, 0, '0 %'),\n",
       " Text(0, 0, '5 %'),\n",
       " Text(0, 0, '10 %'),\n",
       " Text(0, 0, '15 %'),\n",
       " Text(0, 0, '20 %'),\n",
       " Text(0, 0, '25 %'),\n",
       " Text(0, 0, '30 %'),\n",
       " Text(0, 0, '35 %'),\n",
       " Text(0, 0, '40 %'),\n",
       " Text(0, 0, '45 %')]"
      ]
     },
     "execution_count": 6,
     "metadata": {},
     "output_type": "execute_result"
    },
    {
     "data": {
      "image/png": "[encoded data removed]",
      "text/plain": [
       "<Figure size 432x288 with 1 Axes>"
      ]
     },
     "metadata": {},
     "output_type": "display_data"
    }
   ],
   "source": [
    "ax1 = df1.drop('Total')['%'].plot.barh()\n",
    "\n",
    "ax1.set_xlabel('% of respondents, n=' +str(n))\n",
    "\n",
    "ax1.set_xticklabels(['{:.0f} %'.format(x) for x in ax1.get_xticks()])"
   ]
  },
  {
   "cell_type": "code",
   "execution_count": 7,
   "metadata": {},
   "outputs": [],
   "source": [
    "import seaborn as sns"
   ]
  },
  {
   "cell_type": "code",
   "execution_count": 8,
   "metadata": {},
   "outputs": [
    {
     "data": {
      "text/plain": [
       "[Text(0, 0, 'Low'),\n",
       " Text(0, 0, 'Medium'),\n",
       " Text(0, 0, 'High'),\n",
       " Text(0, 0, 'Very high')]"
      ]
     },
     "execution_count": 8,
     "metadata": {},
     "output_type": "execute_result"
    },
    {
     "data": {
      "image/png": "[encoded data removed]",
      "text/plain": [
       "<Figure size 432x288 with 1 Axes>"
      ]
     },
     "metadata": {},
     "output_type": "display_data"
    }
   ],
   "source": [
    "ax2 = sns.countplot(x=df['JobSatisfaction'])\n",
    "\n",
    "ax2.set_xlabel('Job Satisfaction')\n",
    "\n",
    "jobsatisfaction = ['Low', 'Medium', 'High', 'Very high']\n",
    "\n",
    "ax2.set_xticklabels(jobsatisfaction)"
   ]
  },
  {
   "cell_type": "code",
   "execution_count": 9,
   "metadata": {},
   "outputs": [
    {
     "data": {
      "text/html": [
       "<style  type=\"text/css\" >\n",
       "</style><table id=\"T_866d1ae6_306c_11ea_808c_207918ea5f23\" ><thead>    <tr>        <th class=\"index_name level0\" ></th>        <th class=\"col_heading level0 col0\" >count</th>        <th class=\"col_heading level0 col1\" >%</th>    </tr>    <tr>        <th class=\"index_name level0\" >Distance Class</th>        <th class=\"blank\" ></th>        <th class=\"blank\" ></th>    </tr></thead><tbody>\n",
       "                <tr>\n",
       "                        <th id=\"T_866d1ae6_306c_11ea_808c_207918ea5f23level0_row0\" class=\"row_heading level0 row0\" >(0.0, 5.0]</th>\n",
       "                        <td id=\"T_866d1ae6_306c_11ea_808c_207918ea5f23row0_col0\" class=\"data row0 col0\" >632</td>\n",
       "                        <td id=\"T_866d1ae6_306c_11ea_808c_207918ea5f23row0_col1\" class=\"data row0 col1\" >45.7 %</td>\n",
       "            </tr>\n",
       "            <tr>\n",
       "                        <th id=\"T_866d1ae6_306c_11ea_808c_207918ea5f23level0_row1\" class=\"row_heading level0 row1\" >(10.0, 15.0]</th>\n",
       "                        <td id=\"T_866d1ae6_306c_11ea_808c_207918ea5f23row1_col0\" class=\"data row1 col0\" >115</td>\n",
       "                        <td id=\"T_866d1ae6_306c_11ea_808c_207918ea5f23row1_col1\" class=\"data row1 col1\" >8.3 %</td>\n",
       "            </tr>\n",
       "            <tr>\n",
       "                        <th id=\"T_866d1ae6_306c_11ea_808c_207918ea5f23level0_row2\" class=\"row_heading level0 row2\" >(15.0, 20.0]</th>\n",
       "                        <td id=\"T_866d1ae6_306c_11ea_808c_207918ea5f23row2_col0\" class=\"data row2 col0\" >125</td>\n",
       "                        <td id=\"T_866d1ae6_306c_11ea_808c_207918ea5f23row2_col1\" class=\"data row2 col1\" >9.0 %</td>\n",
       "            </tr>\n",
       "            <tr>\n",
       "                        <th id=\"T_866d1ae6_306c_11ea_808c_207918ea5f23level0_row3\" class=\"row_heading level0 row3\" >(20.0, 25.0]</th>\n",
       "                        <td id=\"T_866d1ae6_306c_11ea_808c_207918ea5f23row3_col0\" class=\"data row3 col0\" >117</td>\n",
       "                        <td id=\"T_866d1ae6_306c_11ea_808c_207918ea5f23row3_col1\" class=\"data row3 col1\" >8.5 %</td>\n",
       "            </tr>\n",
       "            <tr>\n",
       "                        <th id=\"T_866d1ae6_306c_11ea_808c_207918ea5f23level0_row4\" class=\"row_heading level0 row4\" >(5.0, 10.0]</th>\n",
       "                        <td id=\"T_866d1ae6_306c_11ea_808c_207918ea5f23row4_col0\" class=\"data row4 col0\" >394</td>\n",
       "                        <td id=\"T_866d1ae6_306c_11ea_808c_207918ea5f23row4_col1\" class=\"data row4 col1\" >28.5 %</td>\n",
       "            </tr>\n",
       "            <tr>\n",
       "                        <th id=\"T_866d1ae6_306c_11ea_808c_207918ea5f23level0_row5\" class=\"row_heading level0 row5\" >Total</th>\n",
       "                        <td id=\"T_866d1ae6_306c_11ea_808c_207918ea5f23row5_col0\" class=\"data row5 col0\" >1383</td>\n",
       "                        <td id=\"T_866d1ae6_306c_11ea_808c_207918ea5f23row5_col1\" class=\"data row5 col1\" >100.0 %</td>\n",
       "            </tr>\n",
       "    </tbody></table>"
      ],
      "text/plain": [
       "<pandas.io.formats.style.Styler at 0x1c2bc1921d0>"
      ]
     },
     "execution_count": 9,
     "metadata": {},
     "output_type": "execute_result"
    }
   ],
   "source": [
    "##etäisyysluokka määritelty aiemmin dataan\n",
    "\n",
    "df1 = pd.crosstab(df['Distance Class'], 'count')\n",
    "\n",
    "df1.columns.name = ''\n",
    "\n",
    "n = df1['count'].sum()\n",
    "df1['%'] = df1/n*100\n",
    "\n",
    "df1.index = df1.index.astype(str)\n",
    "df1.loc['Total'] = df1.sum()\n",
    "\n",
    "df1.reindex(['(0.0, 5.0]', '(5.0, 10.0]', '(10.0, 15.0]', '(15.0, 20.0]', \n",
    "             '(20.0, 25.0]', 'Total'])\n",
    "\n",
    "df1.style.format({'%': '{:.1f} %'})\n"
   ]
  },
  {
   "cell_type": "code",
   "execution_count": 10,
   "metadata": {
    "scrolled": true
   },
   "outputs": [
    {
     "data": {
      "text/html": [
       "<style  type=\"text/css\" >\n",
       "</style><table id=\"T_8671ad1c_306c_11ea_bf72_207918ea5f23\" ><thead>    <tr>        <th class=\"index_name level0\" ></th>        <th class=\"col_heading level0 col0\" >count</th>        <th class=\"col_heading level0 col1\" >%</th>    </tr>    <tr>        <th class=\"index_name level0\" >Satisfaction Class</th>        <th class=\"blank\" ></th>        <th class=\"blank\" ></th>    </tr></thead><tbody>\n",
       "                <tr>\n",
       "                        <th id=\"T_8671ad1c_306c_11ea_bf72_207918ea5f23level0_row0\" class=\"row_heading level0 row0\" >(0.997, 1.6]</th>\n",
       "                        <td id=\"T_8671ad1c_306c_11ea_bf72_207918ea5f23row0_col0\" class=\"data row0 col0\" >155</td>\n",
       "                        <td id=\"T_8671ad1c_306c_11ea_bf72_207918ea5f23row0_col1\" class=\"data row0 col1\" >10.54 %</td>\n",
       "            </tr>\n",
       "            <tr>\n",
       "                        <th id=\"T_8671ad1c_306c_11ea_bf72_207918ea5f23level0_row1\" class=\"row_heading level0 row1\" >(1.6, 2.2]</th>\n",
       "                        <td id=\"T_8671ad1c_306c_11ea_bf72_207918ea5f23row1_col0\" class=\"data row1 col0\" >253</td>\n",
       "                        <td id=\"T_8671ad1c_306c_11ea_bf72_207918ea5f23row1_col1\" class=\"data row1 col1\" >17.21 %</td>\n",
       "            </tr>\n",
       "            <tr>\n",
       "                        <th id=\"T_8671ad1c_306c_11ea_bf72_207918ea5f23level0_row2\" class=\"row_heading level0 row2\" >(2.2, 2.8]</th>\n",
       "                        <td id=\"T_8671ad1c_306c_11ea_bf72_207918ea5f23row2_col0\" class=\"data row2 col0\" >342</td>\n",
       "                        <td id=\"T_8671ad1c_306c_11ea_bf72_207918ea5f23row2_col1\" class=\"data row2 col1\" >23.27 %</td>\n",
       "            </tr>\n",
       "            <tr>\n",
       "                        <th id=\"T_8671ad1c_306c_11ea_bf72_207918ea5f23level0_row3\" class=\"row_heading level0 row3\" >(2.8, 3.4]</th>\n",
       "                        <td id=\"T_8671ad1c_306c_11ea_bf72_207918ea5f23row3_col0\" class=\"data row3 col0\" >304</td>\n",
       "                        <td id=\"T_8671ad1c_306c_11ea_bf72_207918ea5f23row3_col1\" class=\"data row3 col1\" >20.68 %</td>\n",
       "            </tr>\n",
       "            <tr>\n",
       "                        <th id=\"T_8671ad1c_306c_11ea_bf72_207918ea5f23level0_row4\" class=\"row_heading level0 row4\" >(3.4, 4.0]</th>\n",
       "                        <td id=\"T_8671ad1c_306c_11ea_bf72_207918ea5f23row4_col0\" class=\"data row4 col0\" >416</td>\n",
       "                        <td id=\"T_8671ad1c_306c_11ea_bf72_207918ea5f23row4_col1\" class=\"data row4 col1\" >28.30 %</td>\n",
       "            </tr>\n",
       "            <tr>\n",
       "                        <th id=\"T_8671ad1c_306c_11ea_bf72_207918ea5f23level0_row5\" class=\"row_heading level0 row5\" >Total</th>\n",
       "                        <td id=\"T_8671ad1c_306c_11ea_bf72_207918ea5f23row5_col0\" class=\"data row5 col0\" >1470</td>\n",
       "                        <td id=\"T_8671ad1c_306c_11ea_bf72_207918ea5f23row5_col1\" class=\"data row5 col1\" >100.00 %</td>\n",
       "            </tr>\n",
       "    </tbody></table>"
      ],
      "text/plain": [
       "<pandas.io.formats.style.Styler at 0x1c2bc1df438>"
      ]
     },
     "execution_count": 10,
     "metadata": {},
     "output_type": "execute_result"
    }
   ],
   "source": [
    "bins = 5\n",
    "\n",
    "df['Satisfaction Class'] = pd.cut(df['Overall Satisfaction'], bins = bins)\n",
    "\n",
    "df1 = pd.crosstab(df['Satisfaction Class'], 'count')\n",
    "\n",
    "df1.columns.name = ''\n",
    "\n",
    "n = df1['count'].sum()\n",
    "df1['%'] = df1/n*100\n",
    "\n",
    "df1.index = df1.index.astype(str)\n",
    "df1.loc['Total'] = df1.sum()\n",
    "\n",
    "df1.style.format({'%': '{:.2f} %'})"
   ]
  },
  {
   "cell_type": "code",
   "execution_count": 11,
   "metadata": {},
   "outputs": [],
   "source": [
    "import numpy as np"
   ]
  },
  {
   "cell_type": "code",
   "execution_count": 12,
   "metadata": {},
   "outputs": [
    {
     "data": {
      "text/plain": [
       "[Text(0, 0, '0 %'),\n",
       " Text(0, 0, '5 %'),\n",
       " Text(0, 0, '10 %'),\n",
       " Text(0, 0, '15 %'),\n",
       " Text(0, 0, '20 %'),\n",
       " Text(0, 0, '25 %'),\n",
       " Text(0, 0, '30 %')]"
      ]
     },
     "execution_count": 12,
     "metadata": {},
     "output_type": "execute_result"
    },
    {
     "data": {
      "image/png": "[encoded data removed]",
      "text/plain": [
       "<Figure size 432x288 with 1 Axes>"
      ]
     },
     "metadata": {},
     "output_type": "display_data"
    }
   ],
   "source": [
    "ax1 = df['Overall Satisfaction'].hist(bins=bins, weights=np.ones(n)/n)\n",
    "ax1.set_xlabel('Satisfaction')\n",
    "ax1.set_ylabel('%, n='+str(n))\n",
    "\n",
    "ax1.set_yticklabels(['{:.0f} %'.format(y*100) for y in ax1.get_yticks()])"
   ]
  },
  {
   "cell_type": "code",
   "execution_count": 13,
   "metadata": {},
   "outputs": [
    {
     "data": {
      "text/html": [
       "<style  type=\"text/css\" >\n",
       "</style><table id=\"T_8690c9c6_306c_11ea_aca2_207918ea5f23\" ><thead>    <tr>        <th class=\"blank level0\" ></th>        <th class=\"col_heading level0 col0\" >Unnamed: 0</th>        <th class=\"col_heading level0 col1\" >Age</th>        <th class=\"col_heading level0 col2\" >DailyRate</th>        <th class=\"col_heading level0 col3\" >DistanceFromHome</th>        <th class=\"col_heading level0 col4\" >Education</th>        <th class=\"col_heading level0 col5\" >EmployeeCount</th>        <th class=\"col_heading level0 col6\" >EmployeeNumber</th>        <th class=\"col_heading level0 col7\" >EnvironmentSatisfaction</th>        <th class=\"col_heading level0 col8\" >HourlyRate</th>        <th class=\"col_heading level0 col9\" >JobInvolvement</th>        <th class=\"col_heading level0 col10\" >JobLevel</th>        <th class=\"col_heading level0 col11\" >JobSatisfaction</th>        <th class=\"col_heading level0 col12\" >MonthlyIncome</th>        <th class=\"col_heading level0 col13\" >MonthlyRate</th>        <th class=\"col_heading level0 col14\" >NumCompaniesWorked</th>        <th class=\"col_heading level0 col15\" >PercentSalaryHike</th>        <th class=\"col_heading level0 col16\" >PerformanceRating</th>        <th class=\"col_heading level0 col17\" >RelationshipSatisfaction</th>        <th class=\"col_heading level0 col18\" >StandardHours</th>        <th class=\"col_heading level0 col19\" >StockOptionLevel</th>        <th class=\"col_heading level0 col20\" >TotalWorkingYears</th>        <th class=\"col_heading level0 col21\" >TrainingTimesLastYear</th>        <th class=\"col_heading level0 col22\" >WorkLifeBalance</th>        <th class=\"col_heading level0 col23\" >YearsAtCompany</th>        <th class=\"col_heading level0 col24\" >YearsInCurrentRole</th>        <th class=\"col_heading level0 col25\" >YearsSinceLastPromotion</th>        <th class=\"col_heading level0 col26\" >YearsWithCurrManager</th>        <th class=\"col_heading level0 col27\" >Overall Satisfaction</th>    </tr></thead><tbody>\n",
       "                <tr>\n",
       "                        <th id=\"T_8690c9c6_306c_11ea_aca2_207918ea5f23level0_row0\" class=\"row_heading level0 row0\" >count</th>\n",
       "                        <td id=\"T_8690c9c6_306c_11ea_aca2_207918ea5f23row0_col0\" class=\"data row0 col0\" >1470.00</td>\n",
       "                        <td id=\"T_8690c9c6_306c_11ea_aca2_207918ea5f23row0_col1\" class=\"data row0 col1\" >1470.00</td>\n",
       "                        <td id=\"T_8690c9c6_306c_11ea_aca2_207918ea5f23row0_col2\" class=\"data row0 col2\" >1470.00</td>\n",
       "                        <td id=\"T_8690c9c6_306c_11ea_aca2_207918ea5f23row0_col3\" class=\"data row0 col3\" >1470.00</td>\n",
       "                        <td id=\"T_8690c9c6_306c_11ea_aca2_207918ea5f23row0_col4\" class=\"data row0 col4\" >1470.00</td>\n",
       "                        <td id=\"T_8690c9c6_306c_11ea_aca2_207918ea5f23row0_col5\" class=\"data row0 col5\" >1470.00</td>\n",
       "                        <td id=\"T_8690c9c6_306c_11ea_aca2_207918ea5f23row0_col6\" class=\"data row0 col6\" >1470.00</td>\n",
       "                        <td id=\"T_8690c9c6_306c_11ea_aca2_207918ea5f23row0_col7\" class=\"data row0 col7\" >1470.00</td>\n",
       "                        <td id=\"T_8690c9c6_306c_11ea_aca2_207918ea5f23row0_col8\" class=\"data row0 col8\" >1470.00</td>\n",
       "                        <td id=\"T_8690c9c6_306c_11ea_aca2_207918ea5f23row0_col9\" class=\"data row0 col9\" >1470.00</td>\n",
       "                        <td id=\"T_8690c9c6_306c_11ea_aca2_207918ea5f23row0_col10\" class=\"data row0 col10\" >1470.00</td>\n",
       "                        <td id=\"T_8690c9c6_306c_11ea_aca2_207918ea5f23row0_col11\" class=\"data row0 col11\" >1470.00</td>\n",
       "                        <td id=\"T_8690c9c6_306c_11ea_aca2_207918ea5f23row0_col12\" class=\"data row0 col12\" >1470.00</td>\n",
       "                        <td id=\"T_8690c9c6_306c_11ea_aca2_207918ea5f23row0_col13\" class=\"data row0 col13\" >1470.00</td>\n",
       "                        <td id=\"T_8690c9c6_306c_11ea_aca2_207918ea5f23row0_col14\" class=\"data row0 col14\" >1470.00</td>\n",
       "                        <td id=\"T_8690c9c6_306c_11ea_aca2_207918ea5f23row0_col15\" class=\"data row0 col15\" >1470.00</td>\n",
       "                        <td id=\"T_8690c9c6_306c_11ea_aca2_207918ea5f23row0_col16\" class=\"data row0 col16\" >1470.00</td>\n",
       "                        <td id=\"T_8690c9c6_306c_11ea_aca2_207918ea5f23row0_col17\" class=\"data row0 col17\" >1470.00</td>\n",
       "                        <td id=\"T_8690c9c6_306c_11ea_aca2_207918ea5f23row0_col18\" class=\"data row0 col18\" >1470.00</td>\n",
       "                        <td id=\"T_8690c9c6_306c_11ea_aca2_207918ea5f23row0_col19\" class=\"data row0 col19\" >1470.00</td>\n",
       "                        <td id=\"T_8690c9c6_306c_11ea_aca2_207918ea5f23row0_col20\" class=\"data row0 col20\" >1470.00</td>\n",
       "                        <td id=\"T_8690c9c6_306c_11ea_aca2_207918ea5f23row0_col21\" class=\"data row0 col21\" >1470.00</td>\n",
       "                        <td id=\"T_8690c9c6_306c_11ea_aca2_207918ea5f23row0_col22\" class=\"data row0 col22\" >1470.00</td>\n",
       "                        <td id=\"T_8690c9c6_306c_11ea_aca2_207918ea5f23row0_col23\" class=\"data row0 col23\" >1470.00</td>\n",
       "                        <td id=\"T_8690c9c6_306c_11ea_aca2_207918ea5f23row0_col24\" class=\"data row0 col24\" >1470.00</td>\n",
       "                        <td id=\"T_8690c9c6_306c_11ea_aca2_207918ea5f23row0_col25\" class=\"data row0 col25\" >1470.00</td>\n",
       "                        <td id=\"T_8690c9c6_306c_11ea_aca2_207918ea5f23row0_col26\" class=\"data row0 col26\" >1470.00</td>\n",
       "                        <td id=\"T_8690c9c6_306c_11ea_aca2_207918ea5f23row0_col27\" class=\"data row0 col27\" >1470.00</td>\n",
       "            </tr>\n",
       "            <tr>\n",
       "                        <th id=\"T_8690c9c6_306c_11ea_aca2_207918ea5f23level0_row1\" class=\"row_heading level0 row1\" >mean</th>\n",
       "                        <td id=\"T_8690c9c6_306c_11ea_aca2_207918ea5f23row1_col0\" class=\"data row1 col0\" >734.50</td>\n",
       "                        <td id=\"T_8690c9c6_306c_11ea_aca2_207918ea5f23row1_col1\" class=\"data row1 col1\" >36.92</td>\n",
       "                        <td id=\"T_8690c9c6_306c_11ea_aca2_207918ea5f23row1_col2\" class=\"data row1 col2\" >802.49</td>\n",
       "                        <td id=\"T_8690c9c6_306c_11ea_aca2_207918ea5f23row1_col3\" class=\"data row1 col3\" >9.19</td>\n",
       "                        <td id=\"T_8690c9c6_306c_11ea_aca2_207918ea5f23row1_col4\" class=\"data row1 col4\" >2.91</td>\n",
       "                        <td id=\"T_8690c9c6_306c_11ea_aca2_207918ea5f23row1_col5\" class=\"data row1 col5\" >1.00</td>\n",
       "                        <td id=\"T_8690c9c6_306c_11ea_aca2_207918ea5f23row1_col6\" class=\"data row1 col6\" >1024.87</td>\n",
       "                        <td id=\"T_8690c9c6_306c_11ea_aca2_207918ea5f23row1_col7\" class=\"data row1 col7\" >2.72</td>\n",
       "                        <td id=\"T_8690c9c6_306c_11ea_aca2_207918ea5f23row1_col8\" class=\"data row1 col8\" >65.89</td>\n",
       "                        <td id=\"T_8690c9c6_306c_11ea_aca2_207918ea5f23row1_col9\" class=\"data row1 col9\" >2.73</td>\n",
       "                        <td id=\"T_8690c9c6_306c_11ea_aca2_207918ea5f23row1_col10\" class=\"data row1 col10\" >2.06</td>\n",
       "                        <td id=\"T_8690c9c6_306c_11ea_aca2_207918ea5f23row1_col11\" class=\"data row1 col11\" >2.73</td>\n",
       "                        <td id=\"T_8690c9c6_306c_11ea_aca2_207918ea5f23row1_col12\" class=\"data row1 col12\" >6502.93</td>\n",
       "                        <td id=\"T_8690c9c6_306c_11ea_aca2_207918ea5f23row1_col13\" class=\"data row1 col13\" >14313.10</td>\n",
       "                        <td id=\"T_8690c9c6_306c_11ea_aca2_207918ea5f23row1_col14\" class=\"data row1 col14\" >2.69</td>\n",
       "                        <td id=\"T_8690c9c6_306c_11ea_aca2_207918ea5f23row1_col15\" class=\"data row1 col15\" >15.21</td>\n",
       "                        <td id=\"T_8690c9c6_306c_11ea_aca2_207918ea5f23row1_col16\" class=\"data row1 col16\" >3.15</td>\n",
       "                        <td id=\"T_8690c9c6_306c_11ea_aca2_207918ea5f23row1_col17\" class=\"data row1 col17\" >2.71</td>\n",
       "                        <td id=\"T_8690c9c6_306c_11ea_aca2_207918ea5f23row1_col18\" class=\"data row1 col18\" >80.00</td>\n",
       "                        <td id=\"T_8690c9c6_306c_11ea_aca2_207918ea5f23row1_col19\" class=\"data row1 col19\" >0.79</td>\n",
       "                        <td id=\"T_8690c9c6_306c_11ea_aca2_207918ea5f23row1_col20\" class=\"data row1 col20\" >11.28</td>\n",
       "                        <td id=\"T_8690c9c6_306c_11ea_aca2_207918ea5f23row1_col21\" class=\"data row1 col21\" >2.80</td>\n",
       "                        <td id=\"T_8690c9c6_306c_11ea_aca2_207918ea5f23row1_col22\" class=\"data row1 col22\" >2.76</td>\n",
       "                        <td id=\"T_8690c9c6_306c_11ea_aca2_207918ea5f23row1_col23\" class=\"data row1 col23\" >7.01</td>\n",
       "                        <td id=\"T_8690c9c6_306c_11ea_aca2_207918ea5f23row1_col24\" class=\"data row1 col24\" >4.23</td>\n",
       "                        <td id=\"T_8690c9c6_306c_11ea_aca2_207918ea5f23row1_col25\" class=\"data row1 col25\" >2.19</td>\n",
       "                        <td id=\"T_8690c9c6_306c_11ea_aca2_207918ea5f23row1_col26\" class=\"data row1 col26\" >4.12</td>\n",
       "                        <td id=\"T_8690c9c6_306c_11ea_aca2_207918ea5f23row1_col27\" class=\"data row1 col27\" >2.73</td>\n",
       "            </tr>\n",
       "            <tr>\n",
       "                        <th id=\"T_8690c9c6_306c_11ea_aca2_207918ea5f23level0_row2\" class=\"row_heading level0 row2\" >std</th>\n",
       "                        <td id=\"T_8690c9c6_306c_11ea_aca2_207918ea5f23row2_col0\" class=\"data row2 col0\" >424.50</td>\n",
       "                        <td id=\"T_8690c9c6_306c_11ea_aca2_207918ea5f23row2_col1\" class=\"data row2 col1\" >9.14</td>\n",
       "                        <td id=\"T_8690c9c6_306c_11ea_aca2_207918ea5f23row2_col2\" class=\"data row2 col2\" >403.51</td>\n",
       "                        <td id=\"T_8690c9c6_306c_11ea_aca2_207918ea5f23row2_col3\" class=\"data row2 col3\" >8.11</td>\n",
       "                        <td id=\"T_8690c9c6_306c_11ea_aca2_207918ea5f23row2_col4\" class=\"data row2 col4\" >1.02</td>\n",
       "                        <td id=\"T_8690c9c6_306c_11ea_aca2_207918ea5f23row2_col5\" class=\"data row2 col5\" >0.00</td>\n",
       "                        <td id=\"T_8690c9c6_306c_11ea_aca2_207918ea5f23row2_col6\" class=\"data row2 col6\" >602.02</td>\n",
       "                        <td id=\"T_8690c9c6_306c_11ea_aca2_207918ea5f23row2_col7\" class=\"data row2 col7\" >1.09</td>\n",
       "                        <td id=\"T_8690c9c6_306c_11ea_aca2_207918ea5f23row2_col8\" class=\"data row2 col8\" >20.33</td>\n",
       "                        <td id=\"T_8690c9c6_306c_11ea_aca2_207918ea5f23row2_col9\" class=\"data row2 col9\" >0.71</td>\n",
       "                        <td id=\"T_8690c9c6_306c_11ea_aca2_207918ea5f23row2_col10\" class=\"data row2 col10\" >1.11</td>\n",
       "                        <td id=\"T_8690c9c6_306c_11ea_aca2_207918ea5f23row2_col11\" class=\"data row2 col11\" >1.10</td>\n",
       "                        <td id=\"T_8690c9c6_306c_11ea_aca2_207918ea5f23row2_col12\" class=\"data row2 col12\" >4707.96</td>\n",
       "                        <td id=\"T_8690c9c6_306c_11ea_aca2_207918ea5f23row2_col13\" class=\"data row2 col13\" >7117.79</td>\n",
       "                        <td id=\"T_8690c9c6_306c_11ea_aca2_207918ea5f23row2_col14\" class=\"data row2 col14\" >2.50</td>\n",
       "                        <td id=\"T_8690c9c6_306c_11ea_aca2_207918ea5f23row2_col15\" class=\"data row2 col15\" >3.66</td>\n",
       "                        <td id=\"T_8690c9c6_306c_11ea_aca2_207918ea5f23row2_col16\" class=\"data row2 col16\" >0.36</td>\n",
       "                        <td id=\"T_8690c9c6_306c_11ea_aca2_207918ea5f23row2_col17\" class=\"data row2 col17\" >1.08</td>\n",
       "                        <td id=\"T_8690c9c6_306c_11ea_aca2_207918ea5f23row2_col18\" class=\"data row2 col18\" >0.00</td>\n",
       "                        <td id=\"T_8690c9c6_306c_11ea_aca2_207918ea5f23row2_col19\" class=\"data row2 col19\" >0.85</td>\n",
       "                        <td id=\"T_8690c9c6_306c_11ea_aca2_207918ea5f23row2_col20\" class=\"data row2 col20\" >7.78</td>\n",
       "                        <td id=\"T_8690c9c6_306c_11ea_aca2_207918ea5f23row2_col21\" class=\"data row2 col21\" >1.29</td>\n",
       "                        <td id=\"T_8690c9c6_306c_11ea_aca2_207918ea5f23row2_col22\" class=\"data row2 col22\" >0.71</td>\n",
       "                        <td id=\"T_8690c9c6_306c_11ea_aca2_207918ea5f23row2_col23\" class=\"data row2 col23\" >6.13</td>\n",
       "                        <td id=\"T_8690c9c6_306c_11ea_aca2_207918ea5f23row2_col24\" class=\"data row2 col24\" >3.62</td>\n",
       "                        <td id=\"T_8690c9c6_306c_11ea_aca2_207918ea5f23row2_col25\" class=\"data row2 col25\" >3.22</td>\n",
       "                        <td id=\"T_8690c9c6_306c_11ea_aca2_207918ea5f23row2_col26\" class=\"data row2 col26\" >3.57</td>\n",
       "                        <td id=\"T_8690c9c6_306c_11ea_aca2_207918ea5f23row2_col27\" class=\"data row2 col27\" >0.77</td>\n",
       "            </tr>\n",
       "            <tr>\n",
       "                        <th id=\"T_8690c9c6_306c_11ea_aca2_207918ea5f23level0_row3\" class=\"row_heading level0 row3\" >min</th>\n",
       "                        <td id=\"T_8690c9c6_306c_11ea_aca2_207918ea5f23row3_col0\" class=\"data row3 col0\" >0.00</td>\n",
       "                        <td id=\"T_8690c9c6_306c_11ea_aca2_207918ea5f23row3_col1\" class=\"data row3 col1\" >18.00</td>\n",
       "                        <td id=\"T_8690c9c6_306c_11ea_aca2_207918ea5f23row3_col2\" class=\"data row3 col2\" >102.00</td>\n",
       "                        <td id=\"T_8690c9c6_306c_11ea_aca2_207918ea5f23row3_col3\" class=\"data row3 col3\" >1.00</td>\n",
       "                        <td id=\"T_8690c9c6_306c_11ea_aca2_207918ea5f23row3_col4\" class=\"data row3 col4\" >1.00</td>\n",
       "                        <td id=\"T_8690c9c6_306c_11ea_aca2_207918ea5f23row3_col5\" class=\"data row3 col5\" >1.00</td>\n",
       "                        <td id=\"T_8690c9c6_306c_11ea_aca2_207918ea5f23row3_col6\" class=\"data row3 col6\" >1.00</td>\n",
       "                        <td id=\"T_8690c9c6_306c_11ea_aca2_207918ea5f23row3_col7\" class=\"data row3 col7\" >1.00</td>\n",
       "                        <td id=\"T_8690c9c6_306c_11ea_aca2_207918ea5f23row3_col8\" class=\"data row3 col8\" >30.00</td>\n",
       "                        <td id=\"T_8690c9c6_306c_11ea_aca2_207918ea5f23row3_col9\" class=\"data row3 col9\" >1.00</td>\n",
       "                        <td id=\"T_8690c9c6_306c_11ea_aca2_207918ea5f23row3_col10\" class=\"data row3 col10\" >1.00</td>\n",
       "                        <td id=\"T_8690c9c6_306c_11ea_aca2_207918ea5f23row3_col11\" class=\"data row3 col11\" >1.00</td>\n",
       "                        <td id=\"T_8690c9c6_306c_11ea_aca2_207918ea5f23row3_col12\" class=\"data row3 col12\" >1009.00</td>\n",
       "                        <td id=\"T_8690c9c6_306c_11ea_aca2_207918ea5f23row3_col13\" class=\"data row3 col13\" >2094.00</td>\n",
       "                        <td id=\"T_8690c9c6_306c_11ea_aca2_207918ea5f23row3_col14\" class=\"data row3 col14\" >0.00</td>\n",
       "                        <td id=\"T_8690c9c6_306c_11ea_aca2_207918ea5f23row3_col15\" class=\"data row3 col15\" >11.00</td>\n",
       "                        <td id=\"T_8690c9c6_306c_11ea_aca2_207918ea5f23row3_col16\" class=\"data row3 col16\" >3.00</td>\n",
       "                        <td id=\"T_8690c9c6_306c_11ea_aca2_207918ea5f23row3_col17\" class=\"data row3 col17\" >1.00</td>\n",
       "                        <td id=\"T_8690c9c6_306c_11ea_aca2_207918ea5f23row3_col18\" class=\"data row3 col18\" >80.00</td>\n",
       "                        <td id=\"T_8690c9c6_306c_11ea_aca2_207918ea5f23row3_col19\" class=\"data row3 col19\" >0.00</td>\n",
       "                        <td id=\"T_8690c9c6_306c_11ea_aca2_207918ea5f23row3_col20\" class=\"data row3 col20\" >0.00</td>\n",
       "                        <td id=\"T_8690c9c6_306c_11ea_aca2_207918ea5f23row3_col21\" class=\"data row3 col21\" >0.00</td>\n",
       "                        <td id=\"T_8690c9c6_306c_11ea_aca2_207918ea5f23row3_col22\" class=\"data row3 col22\" >1.00</td>\n",
       "                        <td id=\"T_8690c9c6_306c_11ea_aca2_207918ea5f23row3_col23\" class=\"data row3 col23\" >0.00</td>\n",
       "                        <td id=\"T_8690c9c6_306c_11ea_aca2_207918ea5f23row3_col24\" class=\"data row3 col24\" >0.00</td>\n",
       "                        <td id=\"T_8690c9c6_306c_11ea_aca2_207918ea5f23row3_col25\" class=\"data row3 col25\" >0.00</td>\n",
       "                        <td id=\"T_8690c9c6_306c_11ea_aca2_207918ea5f23row3_col26\" class=\"data row3 col26\" >0.00</td>\n",
       "                        <td id=\"T_8690c9c6_306c_11ea_aca2_207918ea5f23row3_col27\" class=\"data row3 col27\" >1.00</td>\n",
       "            </tr>\n",
       "            <tr>\n",
       "                        <th id=\"T_8690c9c6_306c_11ea_aca2_207918ea5f23level0_row4\" class=\"row_heading level0 row4\" >25%</th>\n",
       "                        <td id=\"T_8690c9c6_306c_11ea_aca2_207918ea5f23row4_col0\" class=\"data row4 col0\" >367.25</td>\n",
       "                        <td id=\"T_8690c9c6_306c_11ea_aca2_207918ea5f23row4_col1\" class=\"data row4 col1\" >30.00</td>\n",
       "                        <td id=\"T_8690c9c6_306c_11ea_aca2_207918ea5f23row4_col2\" class=\"data row4 col2\" >465.00</td>\n",
       "                        <td id=\"T_8690c9c6_306c_11ea_aca2_207918ea5f23row4_col3\" class=\"data row4 col3\" >2.00</td>\n",
       "                        <td id=\"T_8690c9c6_306c_11ea_aca2_207918ea5f23row4_col4\" class=\"data row4 col4\" >2.00</td>\n",
       "                        <td id=\"T_8690c9c6_306c_11ea_aca2_207918ea5f23row4_col5\" class=\"data row4 col5\" >1.00</td>\n",
       "                        <td id=\"T_8690c9c6_306c_11ea_aca2_207918ea5f23row4_col6\" class=\"data row4 col6\" >491.25</td>\n",
       "                        <td id=\"T_8690c9c6_306c_11ea_aca2_207918ea5f23row4_col7\" class=\"data row4 col7\" >2.00</td>\n",
       "                        <td id=\"T_8690c9c6_306c_11ea_aca2_207918ea5f23row4_col8\" class=\"data row4 col8\" >48.00</td>\n",
       "                        <td id=\"T_8690c9c6_306c_11ea_aca2_207918ea5f23row4_col9\" class=\"data row4 col9\" >2.00</td>\n",
       "                        <td id=\"T_8690c9c6_306c_11ea_aca2_207918ea5f23row4_col10\" class=\"data row4 col10\" >1.00</td>\n",
       "                        <td id=\"T_8690c9c6_306c_11ea_aca2_207918ea5f23row4_col11\" class=\"data row4 col11\" >2.00</td>\n",
       "                        <td id=\"T_8690c9c6_306c_11ea_aca2_207918ea5f23row4_col12\" class=\"data row4 col12\" >2911.00</td>\n",
       "                        <td id=\"T_8690c9c6_306c_11ea_aca2_207918ea5f23row4_col13\" class=\"data row4 col13\" >8047.00</td>\n",
       "                        <td id=\"T_8690c9c6_306c_11ea_aca2_207918ea5f23row4_col14\" class=\"data row4 col14\" >1.00</td>\n",
       "                        <td id=\"T_8690c9c6_306c_11ea_aca2_207918ea5f23row4_col15\" class=\"data row4 col15\" >12.00</td>\n",
       "                        <td id=\"T_8690c9c6_306c_11ea_aca2_207918ea5f23row4_col16\" class=\"data row4 col16\" >3.00</td>\n",
       "                        <td id=\"T_8690c9c6_306c_11ea_aca2_207918ea5f23row4_col17\" class=\"data row4 col17\" >2.00</td>\n",
       "                        <td id=\"T_8690c9c6_306c_11ea_aca2_207918ea5f23row4_col18\" class=\"data row4 col18\" >80.00</td>\n",
       "                        <td id=\"T_8690c9c6_306c_11ea_aca2_207918ea5f23row4_col19\" class=\"data row4 col19\" >0.00</td>\n",
       "                        <td id=\"T_8690c9c6_306c_11ea_aca2_207918ea5f23row4_col20\" class=\"data row4 col20\" >6.00</td>\n",
       "                        <td id=\"T_8690c9c6_306c_11ea_aca2_207918ea5f23row4_col21\" class=\"data row4 col21\" >2.00</td>\n",
       "                        <td id=\"T_8690c9c6_306c_11ea_aca2_207918ea5f23row4_col22\" class=\"data row4 col22\" >2.00</td>\n",
       "                        <td id=\"T_8690c9c6_306c_11ea_aca2_207918ea5f23row4_col23\" class=\"data row4 col23\" >3.00</td>\n",
       "                        <td id=\"T_8690c9c6_306c_11ea_aca2_207918ea5f23row4_col24\" class=\"data row4 col24\" >2.00</td>\n",
       "                        <td id=\"T_8690c9c6_306c_11ea_aca2_207918ea5f23row4_col25\" class=\"data row4 col25\" >0.00</td>\n",
       "                        <td id=\"T_8690c9c6_306c_11ea_aca2_207918ea5f23row4_col26\" class=\"data row4 col26\" >2.00</td>\n",
       "                        <td id=\"T_8690c9c6_306c_11ea_aca2_207918ea5f23row4_col27\" class=\"data row4 col27\" >2.00</td>\n",
       "            </tr>\n",
       "            <tr>\n",
       "                        <th id=\"T_8690c9c6_306c_11ea_aca2_207918ea5f23level0_row5\" class=\"row_heading level0 row5\" >50%</th>\n",
       "                        <td id=\"T_8690c9c6_306c_11ea_aca2_207918ea5f23row5_col0\" class=\"data row5 col0\" >734.50</td>\n",
       "                        <td id=\"T_8690c9c6_306c_11ea_aca2_207918ea5f23row5_col1\" class=\"data row5 col1\" >36.00</td>\n",
       "                        <td id=\"T_8690c9c6_306c_11ea_aca2_207918ea5f23row5_col2\" class=\"data row5 col2\" >802.00</td>\n",
       "                        <td id=\"T_8690c9c6_306c_11ea_aca2_207918ea5f23row5_col3\" class=\"data row5 col3\" >7.00</td>\n",
       "                        <td id=\"T_8690c9c6_306c_11ea_aca2_207918ea5f23row5_col4\" class=\"data row5 col4\" >3.00</td>\n",
       "                        <td id=\"T_8690c9c6_306c_11ea_aca2_207918ea5f23row5_col5\" class=\"data row5 col5\" >1.00</td>\n",
       "                        <td id=\"T_8690c9c6_306c_11ea_aca2_207918ea5f23row5_col6\" class=\"data row5 col6\" >1020.50</td>\n",
       "                        <td id=\"T_8690c9c6_306c_11ea_aca2_207918ea5f23row5_col7\" class=\"data row5 col7\" >3.00</td>\n",
       "                        <td id=\"T_8690c9c6_306c_11ea_aca2_207918ea5f23row5_col8\" class=\"data row5 col8\" >66.00</td>\n",
       "                        <td id=\"T_8690c9c6_306c_11ea_aca2_207918ea5f23row5_col9\" class=\"data row5 col9\" >3.00</td>\n",
       "                        <td id=\"T_8690c9c6_306c_11ea_aca2_207918ea5f23row5_col10\" class=\"data row5 col10\" >2.00</td>\n",
       "                        <td id=\"T_8690c9c6_306c_11ea_aca2_207918ea5f23row5_col11\" class=\"data row5 col11\" >3.00</td>\n",
       "                        <td id=\"T_8690c9c6_306c_11ea_aca2_207918ea5f23row5_col12\" class=\"data row5 col12\" >4919.00</td>\n",
       "                        <td id=\"T_8690c9c6_306c_11ea_aca2_207918ea5f23row5_col13\" class=\"data row5 col13\" >14235.50</td>\n",
       "                        <td id=\"T_8690c9c6_306c_11ea_aca2_207918ea5f23row5_col14\" class=\"data row5 col14\" >2.00</td>\n",
       "                        <td id=\"T_8690c9c6_306c_11ea_aca2_207918ea5f23row5_col15\" class=\"data row5 col15\" >14.00</td>\n",
       "                        <td id=\"T_8690c9c6_306c_11ea_aca2_207918ea5f23row5_col16\" class=\"data row5 col16\" >3.00</td>\n",
       "                        <td id=\"T_8690c9c6_306c_11ea_aca2_207918ea5f23row5_col17\" class=\"data row5 col17\" >3.00</td>\n",
       "                        <td id=\"T_8690c9c6_306c_11ea_aca2_207918ea5f23row5_col18\" class=\"data row5 col18\" >80.00</td>\n",
       "                        <td id=\"T_8690c9c6_306c_11ea_aca2_207918ea5f23row5_col19\" class=\"data row5 col19\" >1.00</td>\n",
       "                        <td id=\"T_8690c9c6_306c_11ea_aca2_207918ea5f23row5_col20\" class=\"data row5 col20\" >10.00</td>\n",
       "                        <td id=\"T_8690c9c6_306c_11ea_aca2_207918ea5f23row5_col21\" class=\"data row5 col21\" >3.00</td>\n",
       "                        <td id=\"T_8690c9c6_306c_11ea_aca2_207918ea5f23row5_col22\" class=\"data row5 col22\" >3.00</td>\n",
       "                        <td id=\"T_8690c9c6_306c_11ea_aca2_207918ea5f23row5_col23\" class=\"data row5 col23\" >5.00</td>\n",
       "                        <td id=\"T_8690c9c6_306c_11ea_aca2_207918ea5f23row5_col24\" class=\"data row5 col24\" >3.00</td>\n",
       "                        <td id=\"T_8690c9c6_306c_11ea_aca2_207918ea5f23row5_col25\" class=\"data row5 col25\" >1.00</td>\n",
       "                        <td id=\"T_8690c9c6_306c_11ea_aca2_207918ea5f23row5_col26\" class=\"data row5 col26\" >3.00</td>\n",
       "                        <td id=\"T_8690c9c6_306c_11ea_aca2_207918ea5f23row5_col27\" class=\"data row5 col27\" >2.50</td>\n",
       "            </tr>\n",
       "            <tr>\n",
       "                        <th id=\"T_8690c9c6_306c_11ea_aca2_207918ea5f23level0_row6\" class=\"row_heading level0 row6\" >75%</th>\n",
       "                        <td id=\"T_8690c9c6_306c_11ea_aca2_207918ea5f23row6_col0\" class=\"data row6 col0\" >1101.75</td>\n",
       "                        <td id=\"T_8690c9c6_306c_11ea_aca2_207918ea5f23row6_col1\" class=\"data row6 col1\" >43.00</td>\n",
       "                        <td id=\"T_8690c9c6_306c_11ea_aca2_207918ea5f23row6_col2\" class=\"data row6 col2\" >1157.00</td>\n",
       "                        <td id=\"T_8690c9c6_306c_11ea_aca2_207918ea5f23row6_col3\" class=\"data row6 col3\" >14.00</td>\n",
       "                        <td id=\"T_8690c9c6_306c_11ea_aca2_207918ea5f23row6_col4\" class=\"data row6 col4\" >4.00</td>\n",
       "                        <td id=\"T_8690c9c6_306c_11ea_aca2_207918ea5f23row6_col5\" class=\"data row6 col5\" >1.00</td>\n",
       "                        <td id=\"T_8690c9c6_306c_11ea_aca2_207918ea5f23row6_col6\" class=\"data row6 col6\" >1555.75</td>\n",
       "                        <td id=\"T_8690c9c6_306c_11ea_aca2_207918ea5f23row6_col7\" class=\"data row6 col7\" >4.00</td>\n",
       "                        <td id=\"T_8690c9c6_306c_11ea_aca2_207918ea5f23row6_col8\" class=\"data row6 col8\" >83.75</td>\n",
       "                        <td id=\"T_8690c9c6_306c_11ea_aca2_207918ea5f23row6_col9\" class=\"data row6 col9\" >3.00</td>\n",
       "                        <td id=\"T_8690c9c6_306c_11ea_aca2_207918ea5f23row6_col10\" class=\"data row6 col10\" >3.00</td>\n",
       "                        <td id=\"T_8690c9c6_306c_11ea_aca2_207918ea5f23row6_col11\" class=\"data row6 col11\" >4.00</td>\n",
       "                        <td id=\"T_8690c9c6_306c_11ea_aca2_207918ea5f23row6_col12\" class=\"data row6 col12\" >8379.00</td>\n",
       "                        <td id=\"T_8690c9c6_306c_11ea_aca2_207918ea5f23row6_col13\" class=\"data row6 col13\" >20461.50</td>\n",
       "                        <td id=\"T_8690c9c6_306c_11ea_aca2_207918ea5f23row6_col14\" class=\"data row6 col14\" >4.00</td>\n",
       "                        <td id=\"T_8690c9c6_306c_11ea_aca2_207918ea5f23row6_col15\" class=\"data row6 col15\" >18.00</td>\n",
       "                        <td id=\"T_8690c9c6_306c_11ea_aca2_207918ea5f23row6_col16\" class=\"data row6 col16\" >3.00</td>\n",
       "                        <td id=\"T_8690c9c6_306c_11ea_aca2_207918ea5f23row6_col17\" class=\"data row6 col17\" >4.00</td>\n",
       "                        <td id=\"T_8690c9c6_306c_11ea_aca2_207918ea5f23row6_col18\" class=\"data row6 col18\" >80.00</td>\n",
       "                        <td id=\"T_8690c9c6_306c_11ea_aca2_207918ea5f23row6_col19\" class=\"data row6 col19\" >1.00</td>\n",
       "                        <td id=\"T_8690c9c6_306c_11ea_aca2_207918ea5f23row6_col20\" class=\"data row6 col20\" >15.00</td>\n",
       "                        <td id=\"T_8690c9c6_306c_11ea_aca2_207918ea5f23row6_col21\" class=\"data row6 col21\" >3.00</td>\n",
       "                        <td id=\"T_8690c9c6_306c_11ea_aca2_207918ea5f23row6_col22\" class=\"data row6 col22\" >3.00</td>\n",
       "                        <td id=\"T_8690c9c6_306c_11ea_aca2_207918ea5f23row6_col23\" class=\"data row6 col23\" >9.00</td>\n",
       "                        <td id=\"T_8690c9c6_306c_11ea_aca2_207918ea5f23row6_col24\" class=\"data row6 col24\" >7.00</td>\n",
       "                        <td id=\"T_8690c9c6_306c_11ea_aca2_207918ea5f23row6_col25\" class=\"data row6 col25\" >3.00</td>\n",
       "                        <td id=\"T_8690c9c6_306c_11ea_aca2_207918ea5f23row6_col26\" class=\"data row6 col26\" >7.00</td>\n",
       "                        <td id=\"T_8690c9c6_306c_11ea_aca2_207918ea5f23row6_col27\" class=\"data row6 col27\" >3.50</td>\n",
       "            </tr>\n",
       "            <tr>\n",
       "                        <th id=\"T_8690c9c6_306c_11ea_aca2_207918ea5f23level0_row7\" class=\"row_heading level0 row7\" >max</th>\n",
       "                        <td id=\"T_8690c9c6_306c_11ea_aca2_207918ea5f23row7_col0\" class=\"data row7 col0\" >1469.00</td>\n",
       "                        <td id=\"T_8690c9c6_306c_11ea_aca2_207918ea5f23row7_col1\" class=\"data row7 col1\" >60.00</td>\n",
       "                        <td id=\"T_8690c9c6_306c_11ea_aca2_207918ea5f23row7_col2\" class=\"data row7 col2\" >1499.00</td>\n",
       "                        <td id=\"T_8690c9c6_306c_11ea_aca2_207918ea5f23row7_col3\" class=\"data row7 col3\" >29.00</td>\n",
       "                        <td id=\"T_8690c9c6_306c_11ea_aca2_207918ea5f23row7_col4\" class=\"data row7 col4\" >5.00</td>\n",
       "                        <td id=\"T_8690c9c6_306c_11ea_aca2_207918ea5f23row7_col5\" class=\"data row7 col5\" >1.00</td>\n",
       "                        <td id=\"T_8690c9c6_306c_11ea_aca2_207918ea5f23row7_col6\" class=\"data row7 col6\" >2068.00</td>\n",
       "                        <td id=\"T_8690c9c6_306c_11ea_aca2_207918ea5f23row7_col7\" class=\"data row7 col7\" >4.00</td>\n",
       "                        <td id=\"T_8690c9c6_306c_11ea_aca2_207918ea5f23row7_col8\" class=\"data row7 col8\" >100.00</td>\n",
       "                        <td id=\"T_8690c9c6_306c_11ea_aca2_207918ea5f23row7_col9\" class=\"data row7 col9\" >4.00</td>\n",
       "                        <td id=\"T_8690c9c6_306c_11ea_aca2_207918ea5f23row7_col10\" class=\"data row7 col10\" >5.00</td>\n",
       "                        <td id=\"T_8690c9c6_306c_11ea_aca2_207918ea5f23row7_col11\" class=\"data row7 col11\" >4.00</td>\n",
       "                        <td id=\"T_8690c9c6_306c_11ea_aca2_207918ea5f23row7_col12\" class=\"data row7 col12\" >19999.00</td>\n",
       "                        <td id=\"T_8690c9c6_306c_11ea_aca2_207918ea5f23row7_col13\" class=\"data row7 col13\" >26999.00</td>\n",
       "                        <td id=\"T_8690c9c6_306c_11ea_aca2_207918ea5f23row7_col14\" class=\"data row7 col14\" >9.00</td>\n",
       "                        <td id=\"T_8690c9c6_306c_11ea_aca2_207918ea5f23row7_col15\" class=\"data row7 col15\" >25.00</td>\n",
       "                        <td id=\"T_8690c9c6_306c_11ea_aca2_207918ea5f23row7_col16\" class=\"data row7 col16\" >4.00</td>\n",
       "                        <td id=\"T_8690c9c6_306c_11ea_aca2_207918ea5f23row7_col17\" class=\"data row7 col17\" >4.00</td>\n",
       "                        <td id=\"T_8690c9c6_306c_11ea_aca2_207918ea5f23row7_col18\" class=\"data row7 col18\" >80.00</td>\n",
       "                        <td id=\"T_8690c9c6_306c_11ea_aca2_207918ea5f23row7_col19\" class=\"data row7 col19\" >3.00</td>\n",
       "                        <td id=\"T_8690c9c6_306c_11ea_aca2_207918ea5f23row7_col20\" class=\"data row7 col20\" >40.00</td>\n",
       "                        <td id=\"T_8690c9c6_306c_11ea_aca2_207918ea5f23row7_col21\" class=\"data row7 col21\" >6.00</td>\n",
       "                        <td id=\"T_8690c9c6_306c_11ea_aca2_207918ea5f23row7_col22\" class=\"data row7 col22\" >4.00</td>\n",
       "                        <td id=\"T_8690c9c6_306c_11ea_aca2_207918ea5f23row7_col23\" class=\"data row7 col23\" >40.00</td>\n",
       "                        <td id=\"T_8690c9c6_306c_11ea_aca2_207918ea5f23row7_col24\" class=\"data row7 col24\" >18.00</td>\n",
       "                        <td id=\"T_8690c9c6_306c_11ea_aca2_207918ea5f23row7_col25\" class=\"data row7 col25\" >15.00</td>\n",
       "                        <td id=\"T_8690c9c6_306c_11ea_aca2_207918ea5f23row7_col26\" class=\"data row7 col26\" >17.00</td>\n",
       "                        <td id=\"T_8690c9c6_306c_11ea_aca2_207918ea5f23row7_col27\" class=\"data row7 col27\" >4.00</td>\n",
       "            </tr>\n",
       "    </tbody></table>"
      ],
      "text/plain": [
       "<pandas.io.formats.style.Styler at 0x1c2bc1ff470>"
      ]
     },
     "execution_count": 13,
     "metadata": {},
     "output_type": "execute_result"
    }
   ],
   "source": [
    "df.describe().style.format('{:.2f}')"
   ]
  },
  {
   "cell_type": "code",
   "execution_count": 14,
   "metadata": {},
   "outputs": [
    {
     "data": {
      "text/html": [
       "<style  type=\"text/css\" >\n",
       "</style><table id=\"T_8695a73a_306c_11ea_b00e_207918ea5f23\" ><thead>    <tr>        <th class=\"blank level0\" ></th>        <th class=\"col_heading level0 col0\" >Age</th>        <th class=\"col_heading level0 col1\" >YearsAtCompany</th>        <th class=\"col_heading level0 col2\" >MonthlyIncome</th>    </tr></thead><tbody>\n",
       "                <tr>\n",
       "                        <th id=\"T_8695a73a_306c_11ea_b00e_207918ea5f23level0_row0\" class=\"row_heading level0 row0\" >Count</th>\n",
       "                        <td id=\"T_8695a73a_306c_11ea_b00e_207918ea5f23row0_col0\" class=\"data row0 col0\" >1470.00</td>\n",
       "                        <td id=\"T_8695a73a_306c_11ea_b00e_207918ea5f23row0_col1\" class=\"data row0 col1\" >1470.00</td>\n",
       "                        <td id=\"T_8695a73a_306c_11ea_b00e_207918ea5f23row0_col2\" class=\"data row0 col2\" >1470.00</td>\n",
       "            </tr>\n",
       "            <tr>\n",
       "                        <th id=\"T_8695a73a_306c_11ea_b00e_207918ea5f23level0_row1\" class=\"row_heading level0 row1\" >Mean</th>\n",
       "                        <td id=\"T_8695a73a_306c_11ea_b00e_207918ea5f23row1_col0\" class=\"data row1 col0\" >36.92</td>\n",
       "                        <td id=\"T_8695a73a_306c_11ea_b00e_207918ea5f23row1_col1\" class=\"data row1 col1\" >7.01</td>\n",
       "                        <td id=\"T_8695a73a_306c_11ea_b00e_207918ea5f23row1_col2\" class=\"data row1 col2\" >6502.93</td>\n",
       "            </tr>\n",
       "            <tr>\n",
       "                        <th id=\"T_8695a73a_306c_11ea_b00e_207918ea5f23level0_row2\" class=\"row_heading level0 row2\" >Standard Deviation</th>\n",
       "                        <td id=\"T_8695a73a_306c_11ea_b00e_207918ea5f23row2_col0\" class=\"data row2 col0\" >9.14</td>\n",
       "                        <td id=\"T_8695a73a_306c_11ea_b00e_207918ea5f23row2_col1\" class=\"data row2 col1\" >6.13</td>\n",
       "                        <td id=\"T_8695a73a_306c_11ea_b00e_207918ea5f23row2_col2\" class=\"data row2 col2\" >4707.96</td>\n",
       "            </tr>\n",
       "            <tr>\n",
       "                        <th id=\"T_8695a73a_306c_11ea_b00e_207918ea5f23level0_row3\" class=\"row_heading level0 row3\" >Minimum</th>\n",
       "                        <td id=\"T_8695a73a_306c_11ea_b00e_207918ea5f23row3_col0\" class=\"data row3 col0\" >18.00</td>\n",
       "                        <td id=\"T_8695a73a_306c_11ea_b00e_207918ea5f23row3_col1\" class=\"data row3 col1\" >0.00</td>\n",
       "                        <td id=\"T_8695a73a_306c_11ea_b00e_207918ea5f23row3_col2\" class=\"data row3 col2\" >1009.00</td>\n",
       "            </tr>\n",
       "            <tr>\n",
       "                        <th id=\"T_8695a73a_306c_11ea_b00e_207918ea5f23level0_row4\" class=\"row_heading level0 row4\" >Lower Quartile</th>\n",
       "                        <td id=\"T_8695a73a_306c_11ea_b00e_207918ea5f23row4_col0\" class=\"data row4 col0\" >30.00</td>\n",
       "                        <td id=\"T_8695a73a_306c_11ea_b00e_207918ea5f23row4_col1\" class=\"data row4 col1\" >3.00</td>\n",
       "                        <td id=\"T_8695a73a_306c_11ea_b00e_207918ea5f23row4_col2\" class=\"data row4 col2\" >2911.00</td>\n",
       "            </tr>\n",
       "            <tr>\n",
       "                        <th id=\"T_8695a73a_306c_11ea_b00e_207918ea5f23level0_row5\" class=\"row_heading level0 row5\" >Median</th>\n",
       "                        <td id=\"T_8695a73a_306c_11ea_b00e_207918ea5f23row5_col0\" class=\"data row5 col0\" >36.00</td>\n",
       "                        <td id=\"T_8695a73a_306c_11ea_b00e_207918ea5f23row5_col1\" class=\"data row5 col1\" >5.00</td>\n",
       "                        <td id=\"T_8695a73a_306c_11ea_b00e_207918ea5f23row5_col2\" class=\"data row5 col2\" >4919.00</td>\n",
       "            </tr>\n",
       "            <tr>\n",
       "                        <th id=\"T_8695a73a_306c_11ea_b00e_207918ea5f23level0_row6\" class=\"row_heading level0 row6\" >Upper Quartile</th>\n",
       "                        <td id=\"T_8695a73a_306c_11ea_b00e_207918ea5f23row6_col0\" class=\"data row6 col0\" >43.00</td>\n",
       "                        <td id=\"T_8695a73a_306c_11ea_b00e_207918ea5f23row6_col1\" class=\"data row6 col1\" >9.00</td>\n",
       "                        <td id=\"T_8695a73a_306c_11ea_b00e_207918ea5f23row6_col2\" class=\"data row6 col2\" >8379.00</td>\n",
       "            </tr>\n",
       "            <tr>\n",
       "                        <th id=\"T_8695a73a_306c_11ea_b00e_207918ea5f23level0_row7\" class=\"row_heading level0 row7\" >Maximum</th>\n",
       "                        <td id=\"T_8695a73a_306c_11ea_b00e_207918ea5f23row7_col0\" class=\"data row7 col0\" >60.00</td>\n",
       "                        <td id=\"T_8695a73a_306c_11ea_b00e_207918ea5f23row7_col1\" class=\"data row7 col1\" >40.00</td>\n",
       "                        <td id=\"T_8695a73a_306c_11ea_b00e_207918ea5f23row7_col2\" class=\"data row7 col2\" >19999.00</td>\n",
       "            </tr>\n",
       "    </tbody></table>"
      ],
      "text/plain": [
       "<pandas.io.formats.style.Styler at 0x1c2bc25ba90>"
      ]
     },
     "execution_count": 14,
     "metadata": {},
     "output_type": "execute_result"
    }
   ],
   "source": [
    "df1 = df[['Age', 'YearsAtCompany', 'MonthlyIncome']].describe()\n",
    "\n",
    "df1.index = ['Count', 'Mean', 'Standard Deviation', 'Minimum', 'Lower Quartile',\n",
    "            'Median', 'Upper Quartile', 'Maximum']\n",
    "df1.style.format('{:.2f}')"
   ]
  },
  {
   "cell_type": "code",
   "execution_count": 15,
   "metadata": {},
   "outputs": [
    {
     "data": {
      "text/html": [
       "<style  type=\"text/css\" >\n",
       "</style><table id=\"T_8697a1ac_306c_11ea_acce_207918ea5f23\" ><thead>    <tr>        <th class=\"blank level0\" ></th>        <th class=\"col_heading level0 col0\" >Average</th>    </tr></thead><tbody>\n",
       "                <tr>\n",
       "                        <th id=\"T_8697a1ac_306c_11ea_acce_207918ea5f23level0_row0\" class=\"row_heading level0 row0\" >JobSatisfaction</th>\n",
       "                        <td id=\"T_8697a1ac_306c_11ea_acce_207918ea5f23row0_col0\" class=\"data row0 col0\" >2.729</td>\n",
       "            </tr>\n",
       "            <tr>\n",
       "                        <th id=\"T_8697a1ac_306c_11ea_acce_207918ea5f23level0_row1\" class=\"row_heading level0 row1\" >EnvironmentSatisfaction</th>\n",
       "                        <td id=\"T_8697a1ac_306c_11ea_acce_207918ea5f23row1_col0\" class=\"data row1 col0\" >2.722</td>\n",
       "            </tr>\n",
       "            <tr>\n",
       "                        <th id=\"T_8697a1ac_306c_11ea_acce_207918ea5f23level0_row2\" class=\"row_heading level0 row2\" >RelationshipSatisfaction</th>\n",
       "                        <td id=\"T_8697a1ac_306c_11ea_acce_207918ea5f23row2_col0\" class=\"data row2 col0\" >2.712</td>\n",
       "            </tr>\n",
       "    </tbody></table>"
      ],
      "text/plain": [
       "<pandas.io.formats.style.Styler at 0x1c2bc275f98>"
      ]
     },
     "execution_count": 15,
     "metadata": {},
     "output_type": "execute_result"
    }
   ],
   "source": [
    "df2 = df[['JobSatisfaction', 'EnvironmentSatisfaction', 'RelationshipSatisfaction']].mean().to_frame('Average')\n",
    "df2\n",
    "\n",
    "df2.style.format('{:.3f}')"
   ]
  },
  {
   "cell_type": "code",
   "execution_count": 16,
   "metadata": {},
   "outputs": [
    {
     "data": {
      "text/plain": [
       "Text(0.5, 0, 'Average Satisfaction')"
      ]
     },
     "execution_count": 16,
     "metadata": {},
     "output_type": "execute_result"
    },
    {
     "data": {
      "image/png": "[encoded data removed]",
      "text/plain": [
       "<Figure size 432x288 with 1 Axes>"
      ]
     },
     "metadata": {},
     "output_type": "display_data"
    }
   ],
   "source": [
    "ax1 = df2.sort_values('Average').plot.barh(legend=False)\n",
    "ax1.set_xlim(0,3)\n",
    "ax1.set_xlabel('Average Satisfaction')"
   ]
  },
  {
   "cell_type": "code",
   "execution_count": 22,
   "metadata": {},
   "outputs": [
    {
     "data": {
      "text/plain": [
       "[Text(0, 0, 'JobSatisfaction'),\n",
       " Text(0, 0, 'EnvironmentSatisfaction'),\n",
       " Text(0, 0, 'RelationshipSatisfaction')]"
      ]
     },
     "execution_count": 22,
     "metadata": {},
     "output_type": "execute_result"
    },
    {
     "data": {
      "image/png": "[encoded data removed]",
      "text/plain": [
       "<Figure size 432x288 with 1 Axes>"
      ]
     },
     "metadata": {},
     "output_type": "display_data"
    }
   ],
   "source": [
    "ax2 = sns.barplot(data=df[['JobSatisfaction', 'EnvironmentSatisfaction', 'RelationshipSatisfaction']], orient='h')\n",
    "ax2.set_xlim(0,3)\n",
    "ax2.set_xlabel('Average Satisfaction')\n",
    "ax2.set_yticklabels(ax2.get_yticklabels(),rotation=20)"
   ]
  },
  {
   "cell_type": "code",
   "execution_count": 18,
   "metadata": {},
   "outputs": [
    {
     "data": {
      "text/plain": [
       "<matplotlib.axes._subplots.AxesSubplot at 0x1c2bc36b6d8>"
      ]
     },
     "execution_count": 18,
     "metadata": {},
     "output_type": "execute_result"
    },
    {
     "data": {
      "image/png": "[encoded data removed]",
      "text/plain": [
       "<Figure size 432x288 with 1 Axes>"
      ]
     },
     "metadata": {},
     "output_type": "display_data"
    }
   ],
   "source": [
    "sns.boxplot(df['TrainingTimesLastYear'])"
   ]
  },
  {
   "cell_type": "code",
   "execution_count": 19,
   "metadata": {},
   "outputs": [
    {
     "data": {
      "text/plain": [
       "[Text(0, 0, 'JobSatisfaction'),\n",
       " Text(0, 0, 'EnvironmentSatisfaction'),\n",
       " Text(0, 0, 'RelationshipSatisfaction'),\n",
       " Text(0, 0, 'JobInvolvement')]"
      ]
     },
     "execution_count": 19,
     "metadata": {},
     "output_type": "execute_result"
    },
    {
     "data": {
      "image/png": "[encoded data removed]",
      "text/plain": [
       "<Figure size 432x288 with 1 Axes>"
      ]
     },
     "metadata": {},
     "output_type": "display_data"
    }
   ],
   "source": [
    "ax3 = sns.boxplot(data=df[['JobSatisfaction', 'EnvironmentSatisfaction', 'RelationshipSatisfaction', 'JobInvolvement']])\n",
    "ax3.set_xticklabels(ax3.get_xticklabels(),rotation=45)"
   ]
  },
  {
   "cell_type": "code",
   "execution_count": null,
   "metadata": {},
   "outputs": [],
   "source": []
  }
 ],
 "metadata": {
  "kernelspec": {
   "display_name": "Python 3",
   "language": "python",
   "name": "python3"
  },
  "language_info": {
   "codemirror_mode": {
    "name": "ipython",
    "version": 3
   },
   "file_extension": ".py",
   "mimetype": "text/x-python",
   "name": "python",
   "nbconvert_exporter": "python",
   "pygments_lexer": "ipython3",
   "version": "3.7.3"
  }
 },
 "nbformat": 4,
 "nbformat_minor": 2
}
