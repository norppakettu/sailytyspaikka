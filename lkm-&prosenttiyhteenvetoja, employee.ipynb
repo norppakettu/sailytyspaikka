{
 "cells": [
  {
   "cell_type": "code",
   "execution_count": 1,
   "metadata": {},
   "outputs": [],
   "source": [
    "import numpy as np\n",
    "import pandas as pd\n",
    "import matplotlib.pyplot as plt\n",
    "\n",
    "%matplotlib inline\n",
    "plt.style.use('seaborn-darkgrid')\n",
    "\n",
    "from matplotlib.ticker import PercentFormatter\n",
    "\n",
    "myFmt1 = PercentFormatter(xmax=1, decimals=0, symbol=' %')\n",
    "myFmt100 = PercentFormatter(xmax=100, decimals=0, symbol=' %')"
   ]
  },
  {
   "cell_type": "code",
   "execution_count": 5,
   "metadata": {},
   "outputs": [
    {
     "data": {
      "text/html": [
       "<div>\n",
       "<style scoped>\n",
       "    .dataframe tbody tr th:only-of-type {\n",
       "        vertical-align: middle;\n",
       "    }\n",
       "\n",
       "    .dataframe tbody tr th {\n",
       "        vertical-align: top;\n",
       "    }\n",
       "\n",
       "    .dataframe thead th {\n",
       "        text-align: right;\n",
       "    }\n",
       "</style>\n",
       "<table border=\"1\" class=\"dataframe\">\n",
       "  <thead>\n",
       "    <tr style=\"text-align: right;\">\n",
       "      <th></th>\n",
       "      <th>Age</th>\n",
       "      <th>Attrition</th>\n",
       "      <th>BusinessTravel</th>\n",
       "      <th>DailyRate</th>\n",
       "      <th>DistanceFromHome</th>\n",
       "      <th>Education</th>\n",
       "      <th>EnvironmentSatisfaction</th>\n",
       "      <th>Gender</th>\n",
       "      <th>JobInvolvement</th>\n",
       "      <th>JobLevel</th>\n",
       "      <th>...</th>\n",
       "      <th>PerformanceRating</th>\n",
       "      <th>RelationshipSatisfaction</th>\n",
       "      <th>TotalWorkingYears</th>\n",
       "      <th>TrainingTimesLastYear</th>\n",
       "      <th>WorkLifeBalance</th>\n",
       "      <th>YearsAtCompany</th>\n",
       "      <th>YearsInCurrentRole</th>\n",
       "      <th>YearsSinceLastPromotion</th>\n",
       "      <th>YearsWithCurrManager</th>\n",
       "      <th>Overall Satisfaction</th>\n",
       "    </tr>\n",
       "  </thead>\n",
       "  <tbody>\n",
       "    <tr>\n",
       "      <th>0</th>\n",
       "      <td>41</td>\n",
       "      <td>1</td>\n",
       "      <td>2</td>\n",
       "      <td>1102</td>\n",
       "      <td>1</td>\n",
       "      <td>2</td>\n",
       "      <td>2</td>\n",
       "      <td>2</td>\n",
       "      <td>3</td>\n",
       "      <td>2</td>\n",
       "      <td>...</td>\n",
       "      <td>3</td>\n",
       "      <td>1</td>\n",
       "      <td>8</td>\n",
       "      <td>0</td>\n",
       "      <td>1</td>\n",
       "      <td>6</td>\n",
       "      <td>4</td>\n",
       "      <td>0</td>\n",
       "      <td>5</td>\n",
       "      <td>3.0</td>\n",
       "    </tr>\n",
       "    <tr>\n",
       "      <th>1</th>\n",
       "      <td>49</td>\n",
       "      <td>2</td>\n",
       "      <td>3</td>\n",
       "      <td>279</td>\n",
       "      <td>8</td>\n",
       "      <td>1</td>\n",
       "      <td>3</td>\n",
       "      <td>1</td>\n",
       "      <td>2</td>\n",
       "      <td>2</td>\n",
       "      <td>...</td>\n",
       "      <td>4</td>\n",
       "      <td>4</td>\n",
       "      <td>10</td>\n",
       "      <td>3</td>\n",
       "      <td>3</td>\n",
       "      <td>10</td>\n",
       "      <td>7</td>\n",
       "      <td>1</td>\n",
       "      <td>7</td>\n",
       "      <td>2.5</td>\n",
       "    </tr>\n",
       "    <tr>\n",
       "      <th>2</th>\n",
       "      <td>37</td>\n",
       "      <td>1</td>\n",
       "      <td>2</td>\n",
       "      <td>1373</td>\n",
       "      <td>2</td>\n",
       "      <td>2</td>\n",
       "      <td>4</td>\n",
       "      <td>1</td>\n",
       "      <td>2</td>\n",
       "      <td>1</td>\n",
       "      <td>...</td>\n",
       "      <td>3</td>\n",
       "      <td>2</td>\n",
       "      <td>7</td>\n",
       "      <td>3</td>\n",
       "      <td>3</td>\n",
       "      <td>0</td>\n",
       "      <td>0</td>\n",
       "      <td>0</td>\n",
       "      <td>0</td>\n",
       "      <td>3.5</td>\n",
       "    </tr>\n",
       "    <tr>\n",
       "      <th>3</th>\n",
       "      <td>33</td>\n",
       "      <td>2</td>\n",
       "      <td>3</td>\n",
       "      <td>1392</td>\n",
       "      <td>3</td>\n",
       "      <td>4</td>\n",
       "      <td>4</td>\n",
       "      <td>2</td>\n",
       "      <td>3</td>\n",
       "      <td>1</td>\n",
       "      <td>...</td>\n",
       "      <td>3</td>\n",
       "      <td>3</td>\n",
       "      <td>8</td>\n",
       "      <td>3</td>\n",
       "      <td>3</td>\n",
       "      <td>8</td>\n",
       "      <td>7</td>\n",
       "      <td>3</td>\n",
       "      <td>0</td>\n",
       "      <td>3.5</td>\n",
       "    </tr>\n",
       "    <tr>\n",
       "      <th>4</th>\n",
       "      <td>27</td>\n",
       "      <td>2</td>\n",
       "      <td>2</td>\n",
       "      <td>591</td>\n",
       "      <td>2</td>\n",
       "      <td>1</td>\n",
       "      <td>1</td>\n",
       "      <td>1</td>\n",
       "      <td>3</td>\n",
       "      <td>1</td>\n",
       "      <td>...</td>\n",
       "      <td>3</td>\n",
       "      <td>4</td>\n",
       "      <td>6</td>\n",
       "      <td>3</td>\n",
       "      <td>3</td>\n",
       "      <td>2</td>\n",
       "      <td>2</td>\n",
       "      <td>2</td>\n",
       "      <td>2</td>\n",
       "      <td>1.5</td>\n",
       "    </tr>\n",
       "  </tbody>\n",
       "</table>\n",
       "<p>5 rows × 25 columns</p>\n",
       "</div>"
      ],
      "text/plain": [
       "   Age  Attrition  BusinessTravel  DailyRate  DistanceFromHome  Education  \\\n",
       "0   41          1               2       1102                 1          2   \n",
       "1   49          2               3        279                 8          1   \n",
       "2   37          1               2       1373                 2          2   \n",
       "3   33          2               3       1392                 3          4   \n",
       "4   27          2               2        591                 2          1   \n",
       "\n",
       "   EnvironmentSatisfaction  Gender  JobInvolvement  JobLevel  ...  \\\n",
       "0                        2       2               3         2  ...   \n",
       "1                        3       1               2         2  ...   \n",
       "2                        4       1               2         1  ...   \n",
       "3                        4       2               3         1  ...   \n",
       "4                        1       1               3         1  ...   \n",
       "\n",
       "   PerformanceRating  RelationshipSatisfaction  TotalWorkingYears  \\\n",
       "0                  3                         1                  8   \n",
       "1                  4                         4                 10   \n",
       "2                  3                         2                  7   \n",
       "3                  3                         3                  8   \n",
       "4                  3                         4                  6   \n",
       "\n",
       "   TrainingTimesLastYear  WorkLifeBalance  YearsAtCompany  YearsInCurrentRole  \\\n",
       "0                      0                1               6                   4   \n",
       "1                      3                3              10                   7   \n",
       "2                      3                3               0                   0   \n",
       "3                      3                3               8                   7   \n",
       "4                      3                3               2                   2   \n",
       "\n",
       "   YearsSinceLastPromotion  YearsWithCurrManager  Overall Satisfaction  \n",
       "0                        0                     5                   3.0  \n",
       "1                        1                     7                   2.5  \n",
       "2                        0                     0                   3.5  \n",
       "3                        3                     0                   3.5  \n",
       "4                        2                     2                   1.5  \n",
       "\n",
       "[5 rows x 25 columns]"
      ]
     },
     "execution_count": 5,
     "metadata": {},
     "output_type": "execute_result"
    }
   ],
   "source": [
    "df = pd.read_excel('employeedata.xlsx')\n",
    "\n",
    "df.head()"
   ]
  },
  {
   "cell_type": "code",
   "execution_count": 9,
   "metadata": {},
   "outputs": [],
   "source": [
    "JobSatisfaction = ['Low', 'Medium', 'High', 'Very High']\n",
    "EnvironmentSatisfaction = ['Low', 'Medium', 'High', 'Very High']\n",
    "RelationshipSatisfaction = ['Low', 'Medium', 'High', 'Very High']\n",
    "Education = ['Below College', 'College', 'Bachelor', 'Master', 'Doctor']\n",
    "Gender = ['Male', 'Female']\n",
    "Attrition = ['Yes', 'No']\n",
    "Satisfaction = ['Low', 'Medium', 'High', 'Very High']"
   ]
  },
  {
   "cell_type": "code",
   "execution_count": 10,
   "metadata": {},
   "outputs": [
    {
     "data": {
      "text/html": [
       "<style  type=\"text/css\" >\n",
       "</style><table id=\"T_96af5698_3083_11ea_bca3_207918ea5f23\" ><thead>    <tr>        <th class=\"blank level0\" ></th>        <th class=\"col_heading level0 col0\" >JobSatisfaction</th>        <th class=\"col_heading level0 col1\" >EnvironmentSatisfaction</th>        <th class=\"col_heading level0 col2\" >RelationshipSatisfaction</th>    </tr></thead><tbody>\n",
       "                <tr>\n",
       "                        <th id=\"T_96af5698_3083_11ea_bca3_207918ea5f23level0_row0\" class=\"row_heading level0 row0\" >Low</th>\n",
       "                        <td id=\"T_96af5698_3083_11ea_bca3_207918ea5f23row0_col0\" class=\"data row0 col0\" >19.7 %</td>\n",
       "                        <td id=\"T_96af5698_3083_11ea_bca3_207918ea5f23row0_col1\" class=\"data row0 col1\" >19.3 %</td>\n",
       "                        <td id=\"T_96af5698_3083_11ea_bca3_207918ea5f23row0_col2\" class=\"data row0 col2\" >18.8 %</td>\n",
       "            </tr>\n",
       "            <tr>\n",
       "                        <th id=\"T_96af5698_3083_11ea_bca3_207918ea5f23level0_row1\" class=\"row_heading level0 row1\" >Medium</th>\n",
       "                        <td id=\"T_96af5698_3083_11ea_bca3_207918ea5f23row1_col0\" class=\"data row1 col0\" >19.0 %</td>\n",
       "                        <td id=\"T_96af5698_3083_11ea_bca3_207918ea5f23row1_col1\" class=\"data row1 col1\" >19.5 %</td>\n",
       "                        <td id=\"T_96af5698_3083_11ea_bca3_207918ea5f23row1_col2\" class=\"data row1 col2\" >20.6 %</td>\n",
       "            </tr>\n",
       "            <tr>\n",
       "                        <th id=\"T_96af5698_3083_11ea_bca3_207918ea5f23level0_row2\" class=\"row_heading level0 row2\" >High</th>\n",
       "                        <td id=\"T_96af5698_3083_11ea_bca3_207918ea5f23row2_col0\" class=\"data row2 col0\" >30.1 %</td>\n",
       "                        <td id=\"T_96af5698_3083_11ea_bca3_207918ea5f23row2_col1\" class=\"data row2 col1\" >30.8 %</td>\n",
       "                        <td id=\"T_96af5698_3083_11ea_bca3_207918ea5f23row2_col2\" class=\"data row2 col2\" >31.2 %</td>\n",
       "            </tr>\n",
       "            <tr>\n",
       "                        <th id=\"T_96af5698_3083_11ea_bca3_207918ea5f23level0_row3\" class=\"row_heading level0 row3\" >Very High</th>\n",
       "                        <td id=\"T_96af5698_3083_11ea_bca3_207918ea5f23row3_col0\" class=\"data row3 col0\" >31.2 %</td>\n",
       "                        <td id=\"T_96af5698_3083_11ea_bca3_207918ea5f23row3_col1\" class=\"data row3 col1\" >30.3 %</td>\n",
       "                        <td id=\"T_96af5698_3083_11ea_bca3_207918ea5f23row3_col2\" class=\"data row3 col2\" >29.4 %</td>\n",
       "            </tr>\n",
       "            <tr>\n",
       "                        <th id=\"T_96af5698_3083_11ea_bca3_207918ea5f23level0_row4\" class=\"row_heading level0 row4\" >Total</th>\n",
       "                        <td id=\"T_96af5698_3083_11ea_bca3_207918ea5f23row4_col0\" class=\"data row4 col0\" >100.0 %</td>\n",
       "                        <td id=\"T_96af5698_3083_11ea_bca3_207918ea5f23row4_col1\" class=\"data row4 col1\" >100.0 %</td>\n",
       "                        <td id=\"T_96af5698_3083_11ea_bca3_207918ea5f23row4_col2\" class=\"data row4 col2\" >100.0 %</td>\n",
       "            </tr>\n",
       "    </tbody></table>"
      ],
      "text/plain": [
       "<pandas.io.formats.style.Styler at 0x276ca0dd320>"
      ]
     },
     "execution_count": 10,
     "metadata": {},
     "output_type": "execute_result"
    }
   ],
   "source": [
    "df1 = df['JobSatisfaction'].value_counts(sort = False, normalize = True).to_frame()\n",
    "\n",
    "df1['EnvironmentSatisfaction'] = df['EnvironmentSatisfaction'].value_counts(sort= False, normalize = True)\n",
    "df1['JobSatisfaction'] = df['JobSatisfaction'].value_counts(sort= False, normalize = True)\n",
    "df1['RelationshipSatisfaction'] = df['RelationshipSatisfaction'].value_counts(sort= False, normalize = True)\n",
    "\n",
    "df1.index = Satisfaction\n",
    "\n",
    "df1.loc['Total'] = df1.sum()\n",
    "\n",
    "(df1*100).style.format('{:.1f} %')"
   ]
  },
  {
   "cell_type": "code",
   "execution_count": 11,
   "metadata": {},
   "outputs": [
    {
     "data": {
      "image/png": "[encoded data removed]",
      "text/plain": [
       "<Figure size 432x288 with 1 Axes>"
      ]
     },
     "metadata": {
      "needs_background": "light"
     },
     "output_type": "display_data"
    }
   ],
   "source": [
    "ax1 = df1.drop('Total').T.plot.barh(stacked = True, \n",
    "                    color=['#3E5D72','#5CC192','blue','#C971E8','#F4BC7E'])\n",
    "\n",
    "ax1.set_xlabel('Percent of respondents')\n",
    "\n",
    "ax1.legend(loc=(-0.03, 1.05), ncol=2)\n",
    "\n",
    "ax1.xaxis.set_major_formatter(myFmt1)"
   ]
  },
  {
   "cell_type": "code",
   "execution_count": 12,
   "metadata": {},
   "outputs": [
    {
     "data": {
      "text/plain": [
       "Text(0.08, 0.5, '%')"
      ]
     },
     "execution_count": 12,
     "metadata": {},
     "output_type": "execute_result"
    },
    {
     "data": {
      "image/png": "[encoded data removed]",
      "text/plain": [
       "<Figure size 1008x216 with 5 Axes>"
      ]
     },
     "metadata": {
      "needs_background": "light"
     },
     "output_type": "display_data"
    }
   ],
   "source": [
    "axes = (df1.drop('Total')*100).plot.bar(subplots=True, layout=(1, 5), sharex=True, sharey=True, \n",
    "              figsize=(14, 3), color='blue', legend=False)\n",
    "\n",
    "fig = plt.gcf()\n",
    "fig.text(0.08, 0.5, \"%\")"
   ]
  },
  {
   "cell_type": "code",
   "execution_count": null,
   "metadata": {},
   "outputs": [],
   "source": []
  }
 ],
 "metadata": {
  "kernelspec": {
   "display_name": "Python 3",
   "language": "python",
   "name": "python3"
  },
  "language_info": {
   "codemirror_mode": {
    "name": "ipython",
    "version": 3
   },
   "file_extension": ".py",
   "mimetype": "text/x-python",
   "name": "python",
   "nbconvert_exporter": "python",
   "pygments_lexer": "ipython3",
   "version": "3.7.3"
  }
 },
 "nbformat": 4,
 "nbformat_minor": 2
}
